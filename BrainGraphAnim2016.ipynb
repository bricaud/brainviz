{
 "cells": [
  {
   "cell_type": "markdown",
   "metadata": {},
   "source": [
    "## Visualization of the brain graph with D3.js"
   ]
  },
  {
   "cell_type": "markdown",
   "metadata": {},
   "source": [
    "Let us load the brain adjacency matrix $A$. We first load the matlab mat file."
   ]
  },
  {
   "cell_type": "code",
   "execution_count": 1,
   "metadata": {
    "collapsed": false
   },
   "outputs": [],
   "source": [
    "import networkx as nx\n",
    "import scipy as sp\n",
    "import numpy as np\n",
    "import matplotlib.pyplot as plt\n",
    "import scipy.io as spio\n",
    "#D = sp.io.loadmat('/Users/benjamin/Documents/MATLAB/Brain/PH0092_test_timeseries.mat')\n",
    "D = sp.io.loadmat('/Users/benjamin/Documents/PYTHON/PH0148_allscales_allnodes_with_labels.mat')"
   ]
  },
  {
   "cell_type": "markdown",
   "metadata": {},
   "source": [
    "Now the mat file is stored in the dictionary $D$. Let us see what is inside $D$."
   ]
  },
  {
   "cell_type": "code",
   "execution_count": 2,
   "metadata": {
    "collapsed": false
   },
   "outputs": [
    {
     "data": {
      "text/plain": [
       "['SCw4',\n",
       " 'labels',\n",
       " '__header__',\n",
       " '__globals__',\n",
       " 'SCb1',\n",
       " 'SCb2',\n",
       " 'SCb3',\n",
       " 'SCb4',\n",
       " 'SCb5',\n",
       " 'SCw5',\n",
       " '__version__',\n",
       " 'SCw3',\n",
       " 'SCw2',\n",
       " 'SCw1']"
      ]
     },
     "execution_count": 2,
     "metadata": {},
     "output_type": "execute_result"
    }
   ],
   "source": [
    "D.keys()"
   ]
  },
  {
   "cell_type": "markdown",
   "metadata": {},
   "source": [
    "The adjacency matrices of 5 different graphs, corresponding to different numbers of nodes are stored in $SC$. We extract the first (SCw1) of them."
   ]
  },
  {
   "cell_type": "code",
   "execution_count": 3,
   "metadata": {
    "collapsed": false
   },
   "outputs": [],
   "source": [
    "#Brain1=100*np.log(1+D['SCw1'])\n",
    "Brain1=D['SCw1']\n",
    "Brainalllabels=D['labels']\n",
    "Brain1labels=Brainalllabels[0][0]"
   ]
  },
  {
   "cell_type": "code",
   "execution_count": 4,
   "metadata": {
    "collapsed": false
   },
   "outputs": [
    {
     "data": {
      "text/plain": [
       "array([array([u'rh_lateralorbitofrontal'], \n",
       "      dtype='<U23'),\n",
       "       array([u'rh_parsorbitalis'], \n",
       "      dtype='<U16'),\n",
       "       array([u'rh_frontalpole'], \n",
       "      dtype='<U14'),\n",
       "       array([u'rh_medialorbitofrontal'], \n",
       "      dtype='<U22'),\n",
       "       array([u'rh_parstriangularis'], \n",
       "      dtype='<U19'),\n",
       "       array([u'rh_parsopercularis'], \n",
       "      dtype='<U18'),\n",
       "       array([u'rh_rostralmiddlefrontal'], \n",
       "      dtype='<U23'),\n",
       "       array([u'rh_superiorfrontal'], \n",
       "      dtype='<U18'),\n",
       "       array([u'rh_caudalmiddlefrontal'], \n",
       "      dtype='<U22'),\n",
       "       array([u'rh_precentral'], \n",
       "      dtype='<U13'),\n",
       "       array([u'rh_paracentral'], \n",
       "      dtype='<U14'),\n",
       "       array([u'rh_rostralanteriorcingulate'], \n",
       "      dtype='<U27'),\n",
       "       array([u'rh_caudalanteriorcingulate'], \n",
       "      dtype='<U26'),\n",
       "       array([u'rh_posteriorcingulate'], \n",
       "      dtype='<U21'),\n",
       "       array([u'rh_isthmuscingulate'], \n",
       "      dtype='<U19'),\n",
       "       array([u'rh_postcentral'], \n",
       "      dtype='<U14'),\n",
       "       array([u'rh_supramarginal'], \n",
       "      dtype='<U16'),\n",
       "       array([u'rh_superiorparietal'], \n",
       "      dtype='<U19'),\n",
       "       array([u'rh_inferiorparietal'], \n",
       "      dtype='<U19'),\n",
       "       array([u'rh_precuneus'], \n",
       "      dtype='<U12'),\n",
       "       array([u'rh_cuneus'], \n",
       "      dtype='<U9'),\n",
       "       array([u'rh_pericalcarine'], \n",
       "      dtype='<U16'),\n",
       "       array([u'rh_lateraloccipital'], \n",
       "      dtype='<U19'),\n",
       "       array([u'rh_lingual'], \n",
       "      dtype='<U10'),\n",
       "       array([u'rh_fusiform'], \n",
       "      dtype='<U11'),\n",
       "       array([u'rh_parahippocampal'], \n",
       "      dtype='<U18'),\n",
       "       array([u'rh_entorhinal'], \n",
       "      dtype='<U13'),\n",
       "       array([u'rh_temporalpole'], \n",
       "      dtype='<U15'),\n",
       "       array([u'rh_inferiortemporal'], \n",
       "      dtype='<U19'),\n",
       "       array([u'rh_middletemporal'], \n",
       "      dtype='<U17'),\n",
       "       array([u'rh_bankssts'], \n",
       "      dtype='<U11'),\n",
       "       array([u'rh_superiortemporal'], \n",
       "      dtype='<U19'),\n",
       "       array([u'rh_transversetemporal'], \n",
       "      dtype='<U21'),\n",
       "       array([u'rh_insula'], \n",
       "      dtype='<U9'),\n",
       "       array([u'rh_thalamusproper'], \n",
       "      dtype='<U17'),\n",
       "       array([u'rh_caudate'], \n",
       "      dtype='<U10'),\n",
       "       array([u'rh_putamen'], \n",
       "      dtype='<U10'),\n",
       "       array([u'rh_pallidum'], \n",
       "      dtype='<U11'),\n",
       "       array([u'rh_accumbensarea'], \n",
       "      dtype='<U16'),\n",
       "       array([u'rh_hyppocampus'], \n",
       "      dtype='<U14'),\n",
       "       array([u'rh_amygdala'], \n",
       "      dtype='<U11'),\n",
       "       array([u'lh_lateralorbitofrontal'], \n",
       "      dtype='<U23'),\n",
       "       array([u'lh_parsorbitalis'], \n",
       "      dtype='<U16'),\n",
       "       array([u'lh_frontalpole'], \n",
       "      dtype='<U14'),\n",
       "       array([u'lh_medialorbitofrontal'], \n",
       "      dtype='<U22'),\n",
       "       array([u'lh_parstriangularis'], \n",
       "      dtype='<U19'),\n",
       "       array([u'lh_parsopercularis'], \n",
       "      dtype='<U18'),\n",
       "       array([u'lh_rostralmiddlefrontal'], \n",
       "      dtype='<U23'),\n",
       "       array([u'lh_superiorfrontal'], \n",
       "      dtype='<U18'),\n",
       "       array([u'lh_caudalmiddlefrontal'], \n",
       "      dtype='<U22'),\n",
       "       array([u'lh_precentral'], \n",
       "      dtype='<U13'),\n",
       "       array([u'lh_paracentral'], \n",
       "      dtype='<U14'),\n",
       "       array([u'lh_rostralanteriorcingulate'], \n",
       "      dtype='<U27'),\n",
       "       array([u'lh_caudalanteriorcingulate'], \n",
       "      dtype='<U26'),\n",
       "       array([u'lh_posteriorcingulate'], \n",
       "      dtype='<U21'),\n",
       "       array([u'lh_isthmuscingulate'], \n",
       "      dtype='<U19'),\n",
       "       array([u'lh_postcentral'], \n",
       "      dtype='<U14'),\n",
       "       array([u'lh_supramarginal'], \n",
       "      dtype='<U16'),\n",
       "       array([u'lh_superiorparietal'], \n",
       "      dtype='<U19'),\n",
       "       array([u'lh_inferiorparietal'], \n",
       "      dtype='<U19'),\n",
       "       array([u'lh_precuneus'], \n",
       "      dtype='<U12'),\n",
       "       array([u'lh_cuneus'], \n",
       "      dtype='<U9'),\n",
       "       array([u'lh_pericalcarine'], \n",
       "      dtype='<U16'),\n",
       "       array([u'lh_lateraloccipital'], \n",
       "      dtype='<U19'),\n",
       "       array([u'lh_lingual'], \n",
       "      dtype='<U10'),\n",
       "       array([u'lh_fusiform'], \n",
       "      dtype='<U11'),\n",
       "       array([u'lh_parahippocampal'], \n",
       "      dtype='<U18'),\n",
       "       array([u'lh_entorhinal'], \n",
       "      dtype='<U13'),\n",
       "       array([u'lh_temporalpole'], \n",
       "      dtype='<U15'),\n",
       "       array([u'lh_inferiortemporal'], \n",
       "      dtype='<U19'),\n",
       "       array([u'lh_middletemporal'], \n",
       "      dtype='<U17'),\n",
       "       array([u'lh_bankssts'], \n",
       "      dtype='<U11'),\n",
       "       array([u'lh_superiortemporal'], \n",
       "      dtype='<U19'),\n",
       "       array([u'lh_transversetemporal'], \n",
       "      dtype='<U21'),\n",
       "       array([u'lh_insula'], \n",
       "      dtype='<U9'),\n",
       "       array([u'lh_thalamusproper'], \n",
       "      dtype='<U17'),\n",
       "       array([u'lh_caudate'], \n",
       "      dtype='<U10'),\n",
       "       array([u'lh_putamen'], \n",
       "      dtype='<U10'),\n",
       "       array([u'lh_pallidum'], \n",
       "      dtype='<U11'),\n",
       "       array([u'lh_accumbensarea'], \n",
       "      dtype='<U16'),\n",
       "       array([u'lh_hyppocampus'], \n",
       "      dtype='<U14'),\n",
       "       array([u'lh_amygdala'], \n",
       "      dtype='<U11'),\n",
       "       array([u'brainstem'], \n",
       "      dtype='<U9')], dtype=object)"
      ]
     },
     "execution_count": 4,
     "metadata": {},
     "output_type": "execute_result"
    }
   ],
   "source": [
    "Brain1labels.squeeze()"
   ]
  },
  {
   "cell_type": "code",
   "execution_count": 5,
   "metadata": {
    "collapsed": false
   },
   "outputs": [
    {
     "data": {
      "text/plain": [
       "(array([6627,  134,   58,   34,   18,    8,    2,    4,    0,    4]),\n",
       " array([ 0.        ,  0.00795999,  0.01591998,  0.02387996,  0.03183995,\n",
       "         0.03979994,  0.04775993,  0.05571992,  0.0636799 ,  0.07163989,\n",
       "         0.07959988]))"
      ]
     },
     "execution_count": 5,
     "metadata": {},
     "output_type": "execute_result"
    }
   ],
   "source": [
    "np.histogram(Brain1)"
   ]
  },
  {
   "cell_type": "code",
   "execution_count": 6,
   "metadata": {
    "collapsed": false
   },
   "outputs": [
    {
     "data": {
      "text/plain": [
       "0.079599879726516554"
      ]
     },
     "execution_count": 6,
     "metadata": {},
     "output_type": "execute_result"
    }
   ],
   "source": [
    "np.max(Brain1)"
   ]
  },
  {
   "cell_type": "markdown",
   "metadata": {},
   "source": [
    "We now use specific tools for graphs with networkx"
   ]
  },
  {
   "cell_type": "code",
   "execution_count": 7,
   "metadata": {
    "collapsed": false
   },
   "outputs": [],
   "source": [
    "G1=nx.from_numpy_matrix(Brain1)"
   ]
  },
  {
   "cell_type": "code",
   "execution_count": 8,
   "metadata": {
    "collapsed": false
   },
   "outputs": [
    {
     "name": "stderr",
     "output_type": "stream",
     "text": [
      "/Users/benjamin/anaconda/lib/python2.7/site-packages/matplotlib/collections.py:650: FutureWarning: elementwise comparison failed; returning scalar instead, but in the future will perform elementwise comparison\n",
      "  if self._edgecolors_original != str('face'):\n",
      "/Users/benjamin/anaconda/lib/python2.7/site-packages/matplotlib/collections.py:590: FutureWarning: elementwise comparison failed; returning scalar instead, but in the future will perform elementwise comparison\n",
      "  if self._edgecolors == str('face'):\n"
     ]
    },
    {
     "data": {
      "image/png": "[encoded data removed]",
      "text/plain": [
       "<matplotlib.figure.Figure at 0x107759f10>"
      ]
     },
     "metadata": {},
     "output_type": "display_data"
    }
   ],
   "source": [
    "%matplotlib inline\n",
    "plt.figure(1)\n",
    "dg = nx.degree(G1)\n",
    "nx.draw(G1, nodelist=dg.keys(), node_size=[v * 100 for v in dg.values()])\n",
    "plt.show()"
   ]
  },
  {
   "cell_type": "markdown",
   "metadata": {},
   "source": [
    "Rearanging the names to be recorded inside the graph and sorting left/right hemisphere regions:"
   ]
  },
  {
   "cell_type": "code",
   "execution_count": 9,
   "metadata": {
    "collapsed": false
   },
   "outputs": [],
   "source": [
    "Brain1labs={}\n",
    "Labelsshort={}\n",
    "group={}\n",
    "for i in range(len(Brain1)):\n",
    "    Brain1labs[i]=Brain1labels[0][i][0]\n",
    "    if Brain1labs[i][0:2]=='lh':\n",
    "        group[i]=1\n",
    "        Labelsshort[i]=Brain1labs[i][3:]\n",
    "    elif Brain1labs[i][0:2]=='rh':\n",
    "        group[i]=2\n",
    "        Labelsshort[i]=Brain1labs[i][3:]\n",
    "    else:\n",
    "        group[i]=0\n",
    "        Labelsshort[i]=Brain1labs[i]\n",
    "        "
   ]
  },
  {
   "cell_type": "markdown",
   "metadata": {},
   "source": [
    "Adding some properties to the nodes"
   ]
  },
  {
   "cell_type": "code",
   "execution_count": 10,
   "metadata": {
    "collapsed": false
   },
   "outputs": [],
   "source": [
    "deg = nx.degree(G1)\n",
    "nx.set_node_attributes(G1,'degree',deg)\n",
    "nx.set_node_attributes(G1,'name',Labelsshort)\n",
    "nx.set_node_attributes(G1,'group',group)\n",
    "bb=nx.edge_betweenness_centrality(G1, normalized=False)\n",
    "nx.set_edge_attributes(G1,'bb',bb)"
   ]
  },
  {
   "cell_type": "markdown",
   "metadata": {},
   "source": [
    "Adding the attribute fixed (no force applied to these nodes if fixed=True)"
   ]
  },
  {
   "cell_type": "code",
   "execution_count": 59,
   "metadata": {
    "collapsed": true
   },
   "outputs": [],
   "source": [
    "fixed = {}\n",
    "charge = {}\n",
    "x = {}\n",
    "y = {}\n",
    "for i in range(len(Brain1)):\n",
    "    x[i]= np.random.rand()*1000\n",
    "    y[i]= np.random.rand()*1000\n",
    "    fixed[i] = False\n",
    "    charge[i] = -1\n",
    "    if Labelsshort[i]=='lateraloccipital':\n",
    "        fixed[i]=True\n",
    "    elif Labelsshort[i]=='brainstem':\n",
    "        fixed[i]=True\n",
    "        x[i]=300\n",
    "        y[i]=500"
   ]
  },
  {
   "cell_type": "code",
   "execution_count": 66,
   "metadata": {
    "collapsed": false
   },
   "outputs": [],
   "source": [
    "groupfixed=13\n",
    "ii=22 #lateraloccipital\n",
    "fixed[ii]=True\n",
    "x[ii]=100\n",
    "y[ii]=300\n",
    "charge[ii]=0\n",
    "group[ii]=groupfixed\n",
    "ii=63\n",
    "fixed[ii]=True\n",
    "x[ii]=100\n",
    "y[ii]=700\n",
    "group[ii]=groupfixed\n",
    "ii=0 #lateralorbitofrontal\n",
    "fixed[ii]=True\n",
    "x[ii]=800\n",
    "y[ii]=300\n",
    "group[ii]=groupfixed\n",
    "ii=41\n",
    "fixed[ii]=True\n",
    "x[ii]=800\n",
    "y[ii]=700\n",
    "group[ii]=groupfixed\n",
    "ii=9#precentral\n",
    "fixed[ii]=True\n",
    "x[ii]=550\n",
    "y[ii]=200\n",
    "group[ii]=groupfixed\n",
    "ii=50\n",
    "fixed[ii]=True\n",
    "x[ii]=550\n",
    "y[ii]=800\n",
    "group[ii]=groupfixed\n",
    "ii=15 #postcentral\n",
    "fixed[ii]=True\n",
    "x[ii]=450\n",
    "y[ii]=200\n",
    "group[ii]=groupfixed\n",
    "ii= 56\n",
    "fixed[ii]=True\n",
    "x[ii]=450\n",
    "y[ii]=800\n",
    "group[ii]=groupfixed\n",
    "for ii in range(33,41): # subcortical region\n",
    "    group[ii]=4\n",
    "    fixed[ii]=True\n",
    "    x[ii]=500+(np.random.rand()-0.5)*50\n",
    "    y[ii]=450+(np.random.rand()-0.5)*50\n",
    "for ii in range(74,82):\n",
    "    group[ii]=5\n",
    "    fixed[ii]=True\n",
    "    x[ii]=500+(np.random.rand()-0.5)*50\n",
    "    y[ii]=550+(np.random.rand()-0.5)*50\n",
    "    "
   ]
  },
  {
   "cell_type": "code",
   "execution_count": 67,
   "metadata": {
    "collapsed": false
   },
   "outputs": [],
   "source": [
    "weights = nx.get_edge_attributes(G1,'weight')\n",
    "for i in nx.edges_iter(G1,nbunch=[22]): #22,63,82\n",
    "    weights[i]=1000*np.max(Brain1)\n",
    "nx.set_edge_attributes(G1,'weight2',weights)\n",
    "\n",
    "distance=weights.copy()\n",
    "for ii in distance.keys():\n",
    "    distance[ii]=np.sqrt(-np.log(weights[ii]/(np.max(weights.values())+0.001))*50)\n",
    "nx.set_edge_attributes(G1,'distance',distance)\n"
   ]
  },
  {
   "cell_type": "code",
   "execution_count": 68,
   "metadata": {
    "collapsed": true
   },
   "outputs": [],
   "source": [
    "nx.set_node_attributes(G1,'fixed',fixed)\n",
    "nx.set_node_attributes(G1,'x',x)\n",
    "nx.set_node_attributes(G1,'y',y)\n",
    "nx.set_node_attributes(G1,'group',group)\n",
    "nx.set_node_attributes(G1,'charge',charge)"
   ]
  },
  {
   "cell_type": "markdown",
   "metadata": {},
   "source": [
    "### We now plot the brain graphs using D3 and javascript. "
   ]
  },
  {
   "cell_type": "markdown",
   "metadata": {},
   "source": [
    "Let us first import the json format for graphs"
   ]
  },
  {
   "cell_type": "code",
   "execution_count": 69,
   "metadata": {
    "collapsed": false
   },
   "outputs": [],
   "source": [
    "import json\n",
    "from networkx.readwrite import json_graph"
   ]
  },
  {
   "cell_type": "markdown",
   "metadata": {},
   "source": [
    "Now we import a simple method to create a web server."
   ]
  },
  {
   "cell_type": "code",
   "execution_count": 70,
   "metadata": {
    "collapsed": false
   },
   "outputs": [],
   "source": [
    "import sys\n",
    "sys.path.append('/Users/benjamin/Documents/PYTHON/')\n",
    "import http_server\n"
   ]
  },
  {
   "cell_type": "code",
   "execution_count": 71,
   "metadata": {
    "collapsed": false
   },
   "outputs": [
    {
     "name": "stdout",
     "output_type": "stream",
     "text": [
      "Wrote node-link JSON data\n"
     ]
    }
   ],
   "source": [
    "# write json formatted data\n",
    "d1 = json_graph.node_link_data(G1) # node-link format to serialize\n",
    "# write json \n",
    "json.dump(d1, open('force2016.json','w'))\n",
    "#json.dump(d2, open('brainviz/force.json','w'))\n",
    "print('Wrote node-link JSON data')"
   ]
  },
  {
   "cell_type": "code",
   "execution_count": 72,
   "metadata": {
    "collapsed": false
   },
   "outputs": [
    {
     "name": "stdout",
     "output_type": "stream",
     "text": [
      "Press <RETURN> to stop server\n",
      "\n",
      "To restart server run: \n",
      "python -m SimpleHTTPServer 8000\n",
      "Or copy all files in brainviz/ to webserver and load brainviz/brainviz.html\n"
     ]
    },
    {
     "name": "stderr",
     "output_type": "stream",
     "text": [
      "127.0.0.1 - - [08/Jan/2016 12:53:45] \"GET /force2016_2.js HTTP/1.1\" 200 -\n",
      "127.0.0.1 - - [08/Jan/2016 12:53:45] \"GET /force2016.json HTTP/1.1\" 200 -\n",
      "127.0.0.1 - - [08/Jan/2016 12:53:56] \"GET /force2016.html HTTP/1.1\" 200 -\n",
      "127.0.0.1 - - [08/Jan/2016 12:53:56] \"GET /d3-master/d3.min.js HTTP/1.1\" 200 -\n",
      "127.0.0.1 - - [08/Jan/2016 12:53:56] \"GET /jquery-ui.min.js HTTP/1.1\" 200 -\n",
      "127.0.0.1 - - [08/Jan/2016 12:53:56] \"GET /jquery-ui.css HTTP/1.1\" 200 -\n",
      "127.0.0.1 - - [08/Jan/2016 12:53:56] \"GET /force.css HTTP/1.1\" 200 -\n",
      "127.0.0.1 - - [08/Jan/2016 12:53:56] \"GET /force2016_2.js HTTP/1.1\" 200 -\n",
      "127.0.0.1 - - [08/Jan/2016 12:53:56] \"GET /DesikanKilliany.jpg HTTP/1.1\" 200 -\n",
      "127.0.0.1 - - [08/Jan/2016 12:53:56] \"GET /force2016.json HTTP/1.1\" 200 -\n",
      "127.0.0.1 - - [08/Jan/2016 12:56:30] \"GET /force2016.html HTTP/1.1\" 200 -\n",
      "127.0.0.1 - - [08/Jan/2016 12:56:30] \"GET /d3-master/d3.min.js HTTP/1.1\" 200 -\n",
      "127.0.0.1 - - [08/Jan/2016 12:56:30] \"GET /jquery-ui.min.js HTTP/1.1\" 200 -\n",
      "127.0.0.1 - - [08/Jan/2016 12:56:30] \"GET /jquery-ui.css HTTP/1.1\" 200 -\n",
      "127.0.0.1 - - [08/Jan/2016 12:56:30] \"GET /force.css HTTP/1.1\" 200 -\n",
      "127.0.0.1 - - [08/Jan/2016 12:56:30] \"GET /force2016_2.js HTTP/1.1\" 200 -\n",
      "127.0.0.1 - - [08/Jan/2016 12:56:30] \"GET /DesikanKilliany.jpg HTTP/1.1\" 200 -\n",
      "127.0.0.1 - - [08/Jan/2016 12:56:30] \"GET /force2016.json HTTP/1.1\" 200 -\n",
      "127.0.0.1 - - [08/Jan/2016 12:57:42] \"GET /force2016.html HTTP/1.1\" 200 -\n",
      "127.0.0.1 - - [08/Jan/2016 12:57:42] \"GET /d3-master/d3.min.js HTTP/1.1\" 200 -\n",
      "127.0.0.1 - - [08/Jan/2016 12:57:42] \"GET /jquery-ui.min.js HTTP/1.1\" 200 -\n",
      "127.0.0.1 - - [08/Jan/2016 12:57:42] \"GET /jquery-ui.css HTTP/1.1\" 200 -\n",
      "127.0.0.1 - - [08/Jan/2016 12:57:42] \"GET /force.css HTTP/1.1\" 200 -\n",
      "127.0.0.1 - - [08/Jan/2016 12:57:42] \"GET /force2016_2.js HTTP/1.1\" 200 -\n",
      "127.0.0.1 - - [08/Jan/2016 12:57:42] \"GET /DesikanKilliany.jpg HTTP/1.1\" 200 -\n",
      "127.0.0.1 - - [08/Jan/2016 12:57:42] \"GET /force2016.json HTTP/1.1\" 200 -\n",
      "127.0.0.1 - - [08/Jan/2016 12:58:22] \"GET /force2016.html HTTP/1.1\" 200 -\n",
      "127.0.0.1 - - [08/Jan/2016 12:58:22] \"GET /d3-master/d3.min.js HTTP/1.1\" 200 -\n",
      "127.0.0.1 - - [08/Jan/2016 12:58:22] \"GET /jquery-ui.min.js HTTP/1.1\" 200 -\n",
      "127.0.0.1 - - [08/Jan/2016 12:58:22] \"GET /jquery-ui.css HTTP/1.1\" 200 -\n",
      "127.0.0.1 - - [08/Jan/2016 12:58:22] \"GET /force.css HTTP/1.1\" 200 -\n",
      "127.0.0.1 - - [08/Jan/2016 12:58:22] \"GET /force2016_2.js HTTP/1.1\" 200 -\n",
      "127.0.0.1 - - [08/Jan/2016 12:58:22] \"GET /DesikanKilliany.jpg HTTP/1.1\" 200 -\n",
      "127.0.0.1 - - [08/Jan/2016 12:58:22] \"GET /force2016.json HTTP/1.1\" 200 -\n",
      "127.0.0.1 - - [08/Jan/2016 12:58:36] \"GET /force2016.html HTTP/1.1\" 200 -\n",
      "127.0.0.1 - - [08/Jan/2016 12:58:36] \"GET /d3-master/d3.min.js HTTP/1.1\" 200 -\n",
      "127.0.0.1 - - [08/Jan/2016 12:58:36] \"GET /jquery-ui.min.js HTTP/1.1\" 200 -\n",
      "127.0.0.1 - - [08/Jan/2016 12:58:36] \"GET /jquery-ui.css HTTP/1.1\" 200 -\n",
      "127.0.0.1 - - [08/Jan/2016 12:58:36] \"GET /force.css HTTP/1.1\" 200 -\n",
      "127.0.0.1 - - [08/Jan/2016 12:58:36] \"GET /force2016_2.js HTTP/1.1\" 200 -\n",
      "127.0.0.1 - - [08/Jan/2016 12:58:36] \"GET /DesikanKilliany.jpg HTTP/1.1\" 200 -\n",
      "127.0.0.1 - - [08/Jan/2016 12:58:36] \"GET /force2016.json HTTP/1.1\" 200 -\n",
      "127.0.0.1 - - [08/Jan/2016 12:58:58] \"GET /force2016.html HTTP/1.1\" 200 -\n",
      "127.0.0.1 - - [08/Jan/2016 12:58:58] \"GET /d3-master/d3.min.js HTTP/1.1\" 200 -\n",
      "127.0.0.1 - - [08/Jan/2016 12:58:58] \"GET /jquery-ui.min.js HTTP/1.1\" 200 -\n",
      "127.0.0.1 - - [08/Jan/2016 12:58:58] \"GET /jquery-ui.css HTTP/1.1\" 200 -\n",
      "127.0.0.1 - - [08/Jan/2016 12:58:58] \"GET /force.css HTTP/1.1\" 200 -\n",
      "127.0.0.1 - - [08/Jan/2016 12:58:58] \"GET /force2016_2.js HTTP/1.1\" 200 -\n",
      "127.0.0.1 - - [08/Jan/2016 12:58:58] \"GET /DesikanKilliany.jpg HTTP/1.1\" 200 -\n",
      "127.0.0.1 - - [08/Jan/2016 12:58:58] \"GET /force2016.json HTTP/1.1\" 200 -\n",
      "127.0.0.1 - - [08/Jan/2016 12:59:29] \"GET /force2016.html HTTP/1.1\" 200 -\n",
      "127.0.0.1 - - [08/Jan/2016 12:59:29] \"GET /d3-master/d3.min.js HTTP/1.1\" 200 -\n",
      "127.0.0.1 - - [08/Jan/2016 12:59:29] \"GET /jquery-ui.min.js HTTP/1.1\" 200 -\n",
      "127.0.0.1 - - [08/Jan/2016 12:59:29] \"GET /jquery-ui.css HTTP/1.1\" 200 -\n",
      "127.0.0.1 - - [08/Jan/2016 12:59:29] \"GET /force.css HTTP/1.1\" 200 -\n",
      "127.0.0.1 - - [08/Jan/2016 12:59:29] \"GET /force2016_2.js HTTP/1.1\" 200 -\n",
      "127.0.0.1 - - [08/Jan/2016 12:59:29] \"GET /DesikanKilliany.jpg HTTP/1.1\" 200 -\n",
      "127.0.0.1 - - [08/Jan/2016 12:59:30] \"GET /force2016.json HTTP/1.1\" 200 -\n"
     ]
    }
   ],
   "source": [
    "# open URL in running web browser\n",
    "http_server.load_url('force2016.html')\n",
    "print('Or copy all files in brainviz/ to webserver and load brainviz/brainviz.html')"
   ]
  },
  {
   "cell_type": "code",
   "execution_count": null,
   "metadata": {
    "collapsed": false
   },
   "outputs": [],
   "source": []
  },
  {
   "cell_type": "code",
   "execution_count": null,
   "metadata": {
    "collapsed": false
   },
   "outputs": [],
   "source": []
  }
 ],
 "metadata": {
  "kernelspec": {
   "display_name": "Python 3",
   "language": "python",
   "name": "python3"
  },
  "language_info": {
   "codemirror_mode": {
    "name": "ipython",
    "version": 3
   },
   "file_extension": ".py",
   "mimetype": "text/x-python",
   "name": "python",
   "nbconvert_exporter": "python",
   "pygments_lexer": "ipython3",
   "version": "3.5.2"
  }
 },
 "nbformat": 4,
 "nbformat_minor": 0
}
