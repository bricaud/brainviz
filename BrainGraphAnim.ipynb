{
 "cells": [
  {
   "cell_type": "markdown",
   "metadata": {},
   "source": [
    "## Graph manipulations: Example of the brain graph"
   ]
  },
  {
   "cell_type": "markdown",
   "metadata": {},
   "source": [
    "Let us load the brain adjacency matrix $A$. We first load the matlab mat file."
   ]
  },
  {
   "cell_type": "code",
   "execution_count": 1,
   "metadata": {
    "collapsed": false
   },
   "outputs": [],
   "source": [
    "import networkx as nx\n",
    "import scipy as sp\n",
    "import numpy as np\n",
    "import matplotlib.pyplot as plt\n",
    "import scipy.io as spio\n",
    "#D = sp.io.loadmat('/Users/benjamin/Documents/MATLAB/Brain/PH0092_test_timeseries.mat')\n",
    "D = sp.io.loadmat('/Users/benjamin/Documents/PYTHON/PH0148_allscales_allnodes_with_labels.mat')"
   ]
  },
  {
   "cell_type": "markdown",
   "metadata": {},
   "source": [
    "Now the mat file is stored in the dictionary $D$. Let us see what is inside $D$."
   ]
  },
  {
   "cell_type": "code",
   "execution_count": 2,
   "metadata": {
    "collapsed": false
   },
   "outputs": [
    {
     "data": {
      "text/plain": [
       "['SCw4',\n",
       " 'labels',\n",
       " '__header__',\n",
       " '__globals__',\n",
       " 'SCb1',\n",
       " 'SCb2',\n",
       " 'SCb3',\n",
       " 'SCb4',\n",
       " 'SCb5',\n",
       " 'SCw5',\n",
       " '__version__',\n",
       " 'SCw3',\n",
       " 'SCw2',\n",
       " 'SCw1']"
      ]
     },
     "execution_count": 2,
     "metadata": {},
     "output_type": "execute_result"
    }
   ],
   "source": [
    "D.keys()"
   ]
  },
  {
   "cell_type": "markdown",
   "metadata": {},
   "source": [
    "The adjacency matrices of 5 different graphs, corresponding to different numbers of nodes are stored in $SC$. We extract one of them SCw1."
   ]
  },
  {
   "cell_type": "code",
   "execution_count": 2,
   "metadata": {
    "collapsed": false
   },
   "outputs": [],
   "source": [
    "#Brain1=100*np.log(1+D['SCw1'])\n",
    "Brain1=D['SCw1']\n",
    "Brainalllabels=D['labels'] # node labels for all 5 graphs\n",
    "Brain1labels=Brainalllabels[0][0] #node labels for the first graph corresponding to SCw1"
   ]
  },
  {
   "cell_type": "code",
   "execution_count": 4,
   "metadata": {
    "collapsed": false
   },
   "outputs": [
    {
     "data": {
      "text/plain": [
       "u'rh_parsorbitalis'"
      ]
     },
     "execution_count": 4,
     "metadata": {},
     "output_type": "execute_result"
    }
   ],
   "source": [
    "#Brain1labels\n",
    "Brain1labels[0][1][0]"
   ]
  },
  {
   "cell_type": "markdown",
   "metadata": {},
   "source": [
    "We now use specific tools for graphs with networkx.\n",
    "We first build the graph $G$:"
   ]
  },
  {
   "cell_type": "code",
   "execution_count": 3,
   "metadata": {
    "collapsed": false
   },
   "outputs": [],
   "source": [
    "G1=nx.from_numpy_matrix(Brain1)"
   ]
  },
  {
   "cell_type": "markdown",
   "metadata": {},
   "source": [
    "We plot it. The size of each node is proportional to it degree."
   ]
  },
  {
   "cell_type": "code",
   "execution_count": 5,
   "metadata": {
    "collapsed": false
   },
   "outputs": [],
   "source": [
    "plt.figure(1)\n",
    "dg = nx.degree(G1)\n",
    "#nx.draw(G1, nodelist=dg.keys(), node_size=[v * 100 for v in dg.values()])\n",
    "nx.draw(G1, node_size=[v * 100 for v in dg.values()])\n",
    "\n",
    "plt.show()"
   ]
  },
  {
   "cell_type": "code",
   "execution_count": 6,
   "metadata": {
    "collapsed": false
   },
   "outputs": [
    {
     "name": "stdout",
     "output_type": "stream",
     "text": [
      "{0: 21, 1: 17, 2: 15, 3: 26, 4: 20, 5: 14, 6: 32, 7: 34, 8: 19, 9: 26, 10: 21, 11: 8, 12: 14, 13: 20, 14: 20, 15: 18, 16: 18, 17: 41, 18: 20, 19: 31, 20: 13, 21: 25, 22: 27, 23: 30, 24: 21, 25: 12, 26: 13, 27: 12, 28: 30, 29: 34, 30: 10, 31: 33, 32: 9, 33: 25, 34: 47, 35: 44, 36: 43, 37: 32, 38: 24, 39: 34, 40: 18, 41: 17, 42: 13, 43: 11, 44: 22, 45: 17, 46: 16, 47: 27, 48: 37, 49: 23, 50: 29, 51: 14, 52: 14, 53: 13, 54: 17, 55: 21, 56: 26, 57: 17, 58: 43, 59: 17, 60: 47, 61: 16, 62: 32, 63: 30, 64: 20, 65: 17, 66: 12, 67: 10, 68: 20, 69: 34, 70: 33, 71: 12, 72: 49, 73: 10, 74: 45, 75: 44, 76: 39, 77: 37, 78: 26, 79: 24, 80: 22, 81: 17, 82: 51}\n"
     ]
    }
   ],
   "source": [
    "print dg"
   ]
  },
  {
   "cell_type": "code",
   "execution_count": 7,
   "metadata": {
    "collapsed": false
   },
   "outputs": [],
   "source": [
    "#Brain1labelsshort=Brain1labels[0][:][0].copy()\n",
    "#Brain1labels[0][0:len(dg)][0]"
   ]
  },
  {
   "cell_type": "markdown",
   "metadata": {},
   "source": [
    "Rearanging the names to be recorded inside the graph and sorting left/right hemisphere regions:"
   ]
  },
  {
   "cell_type": "code",
   "execution_count": 7,
   "metadata": {
    "collapsed": false
   },
   "outputs": [],
   "source": [
    "Brain1labs={}\n",
    "Labelsshort={}\n",
    "group={}\n",
    "for i in range(len(Brain1)):\n",
    "    Brain1labs[i]=Brain1labels[0][i][0]\n",
    "    if Brain1labs[i][0:2]=='lh':\n",
    "        group[i]=1\n",
    "        Labelsshort[i]=Brain1labs[i][3:] #copy but shorten the name\n",
    "    elif Brain1labs[i][0:2]=='rh':\n",
    "        group[i]=2\n",
    "        Labelsshort[i]=Brain1labs[i][3:]\n",
    "    else:\n",
    "        group[i]=0\n",
    "        Labelsshort[i]=Brain1labs[i]\n",
    "        "
   ]
  },
  {
   "cell_type": "markdown",
   "metadata": {},
   "source": [
    "Add attributes to the nodes: the degree, the label and group (left or right)."
   ]
  },
  {
   "cell_type": "code",
   "execution_count": 8,
   "metadata": {
    "collapsed": false
   },
   "outputs": [],
   "source": [
    "deg = nx.degree(G1)\n",
    "nx.set_node_attributes(G1,'degree',deg)\n",
    "nx.set_node_attributes(G1,'name',Labelsshort)\n",
    "nx.set_node_attributes(G1,'group',group)"
   ]
  },
  {
   "cell_type": "markdown",
   "metadata": {},
   "source": [
    "Compute some edge feature: the edge betweenness centrality."
   ]
  },
  {
   "cell_type": "code",
   "execution_count": 9,
   "metadata": {
    "collapsed": false
   },
   "outputs": [],
   "source": [
    "bb=nx.edge_betweenness_centrality(G1, normalized=False)\n",
    "nx.set_edge_attributes(G1,'bb',bb)"
   ]
  },
  {
   "cell_type": "markdown",
   "metadata": {},
   "source": [
    "### We now plot the brain graphs using D3 and javascript. "
   ]
  },
  {
   "cell_type": "markdown",
   "metadata": {},
   "source": [
    "Let us first import the json format for graphs"
   ]
  },
  {
   "cell_type": "code",
   "execution_count": 10,
   "metadata": {
    "collapsed": false
   },
   "outputs": [],
   "source": [
    "import json\n",
    "from networkx.readwrite import json_graph"
   ]
  },
  {
   "cell_type": "markdown",
   "metadata": {},
   "source": [
    "Now we import a simple method to create a web server."
   ]
  },
  {
   "cell_type": "code",
   "execution_count": 11,
   "metadata": {
    "collapsed": false
   },
   "outputs": [
    {
     "name": "stdout",
     "output_type": "stream",
     "text": [
      "Press <RETURN> to stop server\n",
      "\n"
     ]
    }
   ],
   "source": [
    "import sys\n",
    "sys.path.append('/Users/benjamin/Documents/PYTHON/')\n",
    "import http_server #this is a file in the above path. It launch a web server.\n"
   ]
  },
  {
   "cell_type": "code",
   "execution_count": 12,
   "metadata": {
    "collapsed": false
   },
   "outputs": [
    {
     "name": "stdout",
     "output_type": "stream",
     "text": [
      "/Users/benjamin/Documents/PYTHON\n"
     ]
    }
   ],
   "source": [
    "cd Documents/PYTHON/"
   ]
  },
  {
   "cell_type": "markdown",
   "metadata": {},
   "source": [
    "Save the graph with its nodes, edges and attributes inside a json file:"
   ]
  },
  {
   "cell_type": "code",
   "execution_count": 13,
   "metadata": {
    "collapsed": false
   },
   "outputs": [
    {
     "name": "stdout",
     "output_type": "stream",
     "text": [
      "Wrote node-link JSON data\n"
     ]
    }
   ],
   "source": [
    "# write json formatted data\n",
    "d1 = json_graph.node_link_data(G1) # node-link format to serialize\n",
    "# write json \n",
    "json.dump(d1, open('brainviz/force.json','w'))\n",
    "#json.dump(d2, open('brainviz/force.json','w'))\n",
    "print('Wrote node-link JSON data')"
   ]
  },
  {
   "cell_type": "markdown",
   "metadata": {},
   "source": [
    "Load the web page force.html which display the graph using D3.js"
   ]
  },
  {
   "cell_type": "code",
   "execution_count": 14,
   "metadata": {
    "collapsed": false
   },
   "outputs": [
    {
     "name": "stdout",
     "output_type": "stream",
     "text": [
      "To restart server run: \n",
      "python -m SimpleHTTPServer 8000\n",
      "Or copy all files in brainviz/ to webserver and load brainviz/brainviz.html\n"
     ]
    },
    {
     "name": "stderr",
     "output_type": "stream",
     "text": [
      "127.0.0.1 - - [27/Mar/2014 11:39:31] \"GET /brainviz/force.html HTTP/1.1\" 200 -\n",
      "127.0.0.1 - - [27/Mar/2014 11:39:31] \"GET /brainviz/force.css HTTP/1.1\" 200 -\n",
      "127.0.0.1 - - [27/Mar/2014 11:39:31] \"GET /brainviz/force.js HTTP/1.1\" 200 -\n",
      "127.0.0.1 - - [27/Mar/2014 11:39:31] \"GET /brainviz/DesikanKilliany.jpg HTTP/1.1\" 200 -\n",
      "127.0.0.1 - - [27/Mar/2014 11:39:31] \"GET /brainviz/force.json HTTP/1.1\" 200 -\n"
     ]
    }
   ],
   "source": [
    "# open URL in running web browser\n",
    "http_server.load_url('brainviz/force.html')\n",
    "print('Or copy all files in brainviz/ to webserver and load brainviz/brainviz.html')"
   ]
  },
  {
   "cell_type": "code",
   "execution_count": null,
   "metadata": {
    "collapsed": false
   },
   "outputs": [],
   "source": []
  }
 ],
 "metadata": {
  "kernelspec": {
   "display_name": "Python 3",
   "language": "python",
   "name": "python3"
  },
  "language_info": {
   "codemirror_mode": {
    "name": "ipython",
    "version": 3
   },
   "file_extension": ".py",
   "mimetype": "text/x-python",
   "name": "python",
   "nbconvert_exporter": "python",
   "pygments_lexer": "ipython3",
   "version": "3.5.2"
  }
 },
 "nbformat": 4,
 "nbformat_minor": 0
}
